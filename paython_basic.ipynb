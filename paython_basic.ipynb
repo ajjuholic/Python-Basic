{
  "nbformat": 4,
  "nbformat_minor": 0,
  "metadata": {
    "colab": {
      "provenance": []
    },
    "kernelspec": {
      "name": "python3",
      "display_name": "Python 3"
    },
    "language_info": {
      "name": "python"
    }
  },
  "cells": [
    {
      "cell_type": "markdown",
      "source": [],
      "metadata": {
        "id": "0ra4YVrFEVE7"
      }
    },
    {
      "cell_type": "markdown",
      "source": [
        "**Q.1.  Explain the key features of Python that make it a popular choice for programming ?**\n",
        "  **bold text**\n",
        "  -> The many key features of python that make it a popular choice for programmung :-\n",
        "  \n",
        "  **1. Readability and Simplicity:**\n",
        "   Python emphasizes code readability with its clear syntax and use of indentation. This makes it easier to learn, write, and understand, especially for beginners.\n",
        "   Also its a beginner friendly program.\n",
        "\n",
        "  **2.Extensive Libraries and Frameworks:**\n",
        "     Python offers a vast collection of libraries and frameworks for various tasks, such as data science (NumPy, Pandas etc), web development (Django, Flask), and machine learning (TensorFlow, PyTorch). These pre-built modules save developers time and effort.\n",
        "\n",
        "  3. Versatility and Flexibility.  \n",
        "  4. Large and Active Community.\n",
        "  5. Cross-Platform Compatibility.\n",
        "  6. Interpreted Language: **bold text**\n",
        "     Python is an interpreted language, meaning code is executed line by line, making debugging easier and allowing for faster development cycles.\n",
        "\n",
        "  7**. Automatic Memory Management:**\n",
        "     Python has automatic memory management through garbage collection, relieving developers from manual memory allocation and deallocation tasks.   "
      ],
      "metadata": {
        "id": "rlotth83EWIf"
      }
    },
    {
      "cell_type": "markdown",
      "source": [
        "Q.2. Describe the role of predefined keywords in Python and provide examples of how they are used in a\n",
        "program ? **bold text**\n",
        "\n",
        "    ->> Role of Predefined Keywords in Python\n",
        "\n",
        "In Python, predefined keywords are reserved words that have special meanings and cannot be used as identifiers (variable names, function names, etc.). These keywords represent fundamental building blocks of the language and are used to define the structure and logic of Python programs. They are case-sensitive and must be used as intended by the language.\n",
        "\n",
        "**Keyword** =\n",
        "              \"Keyword are predifined words that hold a special meaning and have specific purpose .\n",
        "\n",
        "example >>>>\n"
      ],
      "metadata": {
        "id": "JrhFP4dHEUl-"
      }
    },
    {
      "cell_type": "code",
      "source": [
        "#Q.2.\n",
        "com = 5+6j\n",
        "type(com)\n",
        "\n",
        "com.real\n",
        "com.imag\n",
        "\n",
        "age = 21\n",
        "\n",
        "if age >= 21:\n",
        "    print(\"You are invited to the bar and drink a alcohal.\")\n",
        "else:\n",
        "    print(\"You are not eligible to enter a bar .\")\n",
        "\n",
        "\n",
        "#etc\n",
        "\n",
        "\n",
        "\n"
      ],
      "metadata": {
        "colab": {
          "base_uri": "https://localhost:8080/"
        },
        "id": "NsOgvwblIyQY",
        "outputId": "1cd3a4c7-634f-4ae9-c3f1-dac034717da9"
      },
      "execution_count": null,
      "outputs": [
        {
          "output_type": "stream",
          "name": "stdout",
          "text": [
            "You are invited to the bar and drink a alcohal.\n"
          ]
        }
      ]
    },
    {
      "cell_type": "markdown",
      "source": [
        "Q. 03 Compare and constrat mutable and immutable objects in python with example ?\n",
        "\n",
        "-->>>  Mutable object =\n",
        "                     \n",
        "                     \n",
        "                      Mutable object can be modified after they are created . This means you cane change their content without changing their identity.\n",
        "\n",
        "      Example. -- List , Dictionaries , sets.\n",
        "\n",
        "      ############\n",
        "\n",
        "      Immutable object =\n",
        "\n",
        "                        Immutable object can't be modified after thet are created.\n",
        "\n",
        "          Example -- Int, Float, \"str\" , string , Tuple\n"
      ],
      "metadata": {
        "id": "14o0DCLfx_Gf"
      }
    },
    {
      "cell_type": "code",
      "source": [
        "#Example code Mutable objects\n",
        "\n",
        "my_list = [1 , 2 , 3, \"Arjun\"]\n",
        "my_list[3] = \"Harry\" # modifying the list in-place\n",
        "my_list\n",
        "\n",
        "\n",
        "\n",
        "#immutable object\n",
        "\n",
        "my_string = \"hello\"\n",
        "#my_string[0] = \"H\"  , error\n",
        "\n",
        "new_string = my_string.upper()\n",
        "print(my_string)\n",
        "print(new_string)\n"
      ],
      "metadata": {
        "id": "gYrCwSP1zvd0"
      },
      "execution_count": null,
      "outputs": []
    },
    {
      "cell_type": "markdown",
      "source": [
        "Q>04 Discuss the different types of operators in python  and provide examples of how they work ?\n",
        "\n",
        "\n",
        "--->>> Operators are special symbols in Python that carry out arithmetic or logical computations. The value that the operator operates on is called the operand.\n",
        "\n",
        "\n",
        "\n",
        "1.   Arithmetic Operator\n",
        "2.   Comparison Operator\n",
        "3.   Logical Operator\n",
        "4.   Assignment Operator\n",
        "5.   Bitwise Operatotr\n",
        "6.   Membership Operator\n",
        "7.   Identity Operator\n",
        "\n",
        "\n",
        "\n",
        "1. Arithmetic Operators:\n",
        "\n",
        "These operators are used to perform mathematical operations like addition, subtraction, multiplication, etc.\n",
        "\n",
        "Ex. + , - , * ,  /, %, **,  //,\n",
        "    \n",
        "\n",
        "\n",
        "       \n",
        "\n",
        "\n"
      ],
      "metadata": {
        "id": "wmu6V_302JAZ"
      }
    },
    {
      "cell_type": "code",
      "source": [
        "x = 10\n",
        "y = 3\n",
        "\n",
        "print(x + y)  #Output : 13\n",
        "print(x - y)  # Output: 7\n",
        "print(x * y)  # Output: 30\n",
        "print(x / y)  # Output: 3.3333333333333335\n",
        "print(x % y)  # Output: 1\n",
        "print(x ** y) # Output: 1000\n",
        "print(x // y) # Output: 3\n",
        "\n"
      ],
      "metadata": {
        "id": "agc8GF0H4K-p"
      },
      "execution_count": null,
      "outputs": []
    },
    {
      "cell_type": "markdown",
      "source": [],
      "metadata": {
        "id": "KJcr1KrX5GQ_"
      }
    },
    {
      "cell_type": "markdown",
      "source": [
        "2. Comparison Operators:\n",
        "\n",
        "These operators are used to compare two values.\n",
        "\n",
        "Ex.  | Operator =\n",
        "         (==) , Equal to\n",
        "         (!= ) , Not equal to\n",
        "         ( > ) , Greater than\n",
        "         ( < ) , Less than\n",
        "         ( >=) , Greater than equal to\n",
        "         (<= ) , Less than equal to"
      ],
      "metadata": {
        "id": "5ZqdaoSJ5I3x"
      }
    },
    {
      "cell_type": "code",
      "source": [
        "#Example\n",
        "\n",
        "\n",
        "x = 10\n",
        "y = 3\n",
        "print(x == y)  # Output: False\n",
        "print(x != y)  # Output: True\n",
        "print(x > y)  # Output: True\n",
        "print(x < y)  # Output: False\n",
        "print(x >= y) # Output: True\n",
        "print(x <= y) # Output: False"
      ],
      "metadata": {
        "id": "G29qi5Ib6alc"
      },
      "execution_count": null,
      "outputs": []
    },
    {
      "cell_type": "markdown",
      "source": [
        "3. Logical Operators:\n",
        "\n",
        "These operators are used to combine conditional statements.\n",
        "\n",
        "(and)\n",
        " Returns True if both statements are true\n",
        "\n",
        "( or )\n",
        "\n",
        " Returns True if one of the statements is true , Reverse the result, returns False if the result is true.\n",
        "\n",
        "Example:"
      ],
      "metadata": {
        "id": "SsvRMjI86-xB"
      }
    },
    {
      "cell_type": "code",
      "source": [
        "x = 5\n",
        "print(x > 3 and x < 10) # Output: True\n",
        "print(x > 3 or x < 4) # Output: True\n",
        "print(not(x > 3 and x < 10)) # Output: False"
      ],
      "metadata": {
        "id": "jD-R8sHY7iBz"
      },
      "execution_count": null,
      "outputs": []
    },
    {
      "cell_type": "markdown",
      "source": [
        "4. Assignment Operators:\n",
        "\n",
        "These operators are used to assign values to variables.\n",
        "\n",
        "('=' ) Assignment,\n",
        "('+=') Add and assign,\n",
        "('-=') Subtract and assign,\n",
        "('*= ') Multiply and assign,\n",
        "('/= ') Divide and assign,\n",
        "('%=') Modulo and assign,\n",
        "('**=') Exponentiation and assign,\n",
        "('//=') Floor division and assign."
      ],
      "metadata": {
        "id": "iM6BXaNu7yFh"
      }
    },
    {
      "cell_type": "code",
      "source": [
        "#Example\n",
        "x = 10\n",
        "x += 5  # Equivalent to x = x + 5\n",
        "print(x)  # Output: 15\n",
        "\n",
        "\n",
        "\n",
        "\n"
      ],
      "metadata": {
        "id": "nasXy7XQ79YG"
      },
      "execution_count": null,
      "outputs": []
    },
    {
      "cell_type": "markdown",
      "source": [
        "5. Bitwise Operators:\n",
        "\n",
        "These operators work on individual bits of data:\n",
        "\n",
        "\n",
        "& (Bitwise AND)\n",
        "| (Bitwise OR)\n",
        "^ (Bitwise XOR)\n",
        "~ (Bitwise NOT)\n",
        "<< (Left shift)\n",
        ">> (Right shift)"
      ],
      "metadata": {
        "id": "vrxXUUxpJr_7"
      }
    },
    {
      "cell_type": "code",
      "source": [
        " #bitwise example\n",
        "a = 18\n",
        "b = 3\n",
        "print(a & b)  # output = 2\n",
        "bin(18)  #0b10010\n",
        "bin(3)   #0b11\n",
        "\n",
        "bin(2) # 0b10"
      ],
      "metadata": {
        "id": "wbVptTfaJ5kD"
      },
      "execution_count": null,
      "outputs": []
    },
    {
      "cell_type": "markdown",
      "source": [
        "6. Membership Operators:\n",
        "\n",
        "These operators test for membership in a sequence (like a string, list, or tuple):\n",
        "\n",
        "* in: Returns True if a value is found in the sequence.\n",
        "\n",
        "* not in: Returns True if a value is not found in the sequence.\n",
        "\n",
        "\n",
        "Example:"
      ],
      "metadata": {
        "id": "Sf5GtO9-LBNx"
      }
    },
    {
      "cell_type": "code",
      "source": [
        "my_list = [1, 2, 3]\n",
        "print(2 in my_list)  # Output: True\n",
        "print(4 not in my_list)  # Output: True"
      ],
      "metadata": {
        "id": "DMedI0-XLUBN"
      },
      "execution_count": null,
      "outputs": []
    },
    {
      "cell_type": "markdown",
      "source": [
        "7. Identity Operators:\n",
        "\n",
        "These operators compare the memory locations of two objects:\n",
        "\n",
        "\n",
        "*   is: Returns True if both variables refer to the same object.\n",
        "\n",
        "*   is not: Returns True if both variables do not refer to the same object.\n",
        "\n",
        "\n",
        "Example:\n"
      ],
      "metadata": {
        "id": "Yt0oNW31LaMN"
      }
    },
    {
      "cell_type": "code",
      "source": [
        "#identity operator\n",
        "\n",
        "x = [1, 2, 3]\n",
        "y = x\n",
        "print(x is y)  # Output: True\n",
        "z = [1, 2, 3]\n",
        "print(x is not y)  # Output: False (Even though they have the same content, they are different objects)\n",
        "\n"
      ],
      "metadata": {
        "id": "hz0zr0daLou3"
      },
      "execution_count": null,
      "outputs": []
    },
    {
      "cell_type": "markdown",
      "source": [
        "Q.5 Explain the concept of type casting in python with example ?\n",
        "\n",
        "--->>  Type casting -\n",
        "                      \" The procces of changing the data type of a value / object\"\n",
        "\n",
        "   Why ?\n",
        "\n",
        "   -->> While executing/ computation using operators , there can be mismatch bitwise the data type .\n",
        "\n",
        "\n",
        "\n",
        "   types of Type Casting -\n",
        "         1. Impicit- python automatically perform this conversation when it's safe and logical .\n",
        "\n",
        "\n",
        "         2. Explicit - You explicitly instruct python to convert the data type using built-in functions :\n",
        "\n",
        "        int(): Converts a value to an integer.\n",
        "      float(): Converts a value to a floating-point number.\n",
        "        str(): Converts a value to a string.\n",
        "       bool(): Converts a value to a Boolean (True or False).\n",
        "       list(): Converts a value to a list.\n",
        "      tuple(): Converts a value to a tuple.\n",
        "        set(): Converts a value to a set.\n",
        "       dict(): Converts a value to a dictionary.\n"
      ],
      "metadata": {
        "id": "pMfOYdUfMWyn"
      }
    },
    {
      "cell_type": "code",
      "source": [
        "# Implicit type casting\n",
        "num1 = 10  # integer\n",
        "num2 = 3.14  # float\n",
        "result = num1 + num2  # Python implicitly converts num1 to a float\n",
        "print(result)  # Output: 13.14 (float)\n",
        "print(type(result)) # Output: <class 'float'>\n",
        "\n",
        "# Explicit type casting\n",
        "age = \"25\"  # string\n",
        "age_int = int(age)  # Convert age to an integer\n",
        "print(age_int)  # Output: 25 (integer)\n",
        "print(type(age_int)) # Output: <class 'int'>\n",
        "\n",
        "price = 99.99  # float\n",
        "price_str = str(price)  # Convert price to a string\n",
        "print(price_str)  # Output: \"99.99\" (string)\n",
        "print(type(price_str)) # Output: <class 'str'>\n",
        "\n",
        "flag = 1  # integer\n",
        "flag_bool = bool(flag)  # Convert flag to a Boolean\n",
        "print(flag_bool)  # Output: True (Boolean)\n",
        "print(type(flag_bool)) # Output: <class 'bool'>"
      ],
      "metadata": {
        "id": "fBIZ0WT3PLZo"
      },
      "execution_count": null,
      "outputs": []
    },
    {
      "cell_type": "markdown",
      "source": [
        "Q.6 How do conditional statements work in python ? illustrate with example.\n",
        "\n",
        "-->>  Condition statement in python allow you to control the flow of your progrm based on certain condition . They execute specific block of code only if a particular condition is use true .\n",
        "\n",
        "if  condition:\n",
        "              code to execute if the condition is true"
      ],
      "metadata": {
        "id": "u219P8AaPW7N"
      }
    },
    {
      "cell_type": "code",
      "source": [
        "age = 20\n",
        "\n",
        "if age >= 18:\n",
        "    print(\"You are eligible to vote.\")"
      ],
      "metadata": {
        "id": "2Y-A0IwIQseV"
      },
      "execution_count": null,
      "outputs": []
    },
    {
      "cell_type": "markdown",
      "source": [
        "Then else statement\n",
        "The else statemnet can be used in conjuction with the if statement to provide an alternative code block to execute it the condition in the if statement False ,\n",
        "\n",
        "if condition:\n",
        "     Code to execute if the condition is True\n",
        "else:\n",
        "     Code to execute if the condition is False"
      ],
      "metadata": {
        "id": "hW1av0r7RHDU"
      }
    },
    {
      "cell_type": "code",
      "source": [
        "age = 15\n",
        "\n",
        "if age >= 18:\n",
        "    print(\"You are eligible to vote.\")\n",
        "else:\n",
        "    print(\"You are not eligible to vote yet.\")"
      ],
      "metadata": {
        "id": "juHjFf8URlBU"
      },
      "execution_count": null,
      "outputs": []
    },
    {
      "cell_type": "markdown",
      "source": [
        "The elif statement :\n",
        "if condition1:\n",
        "     Code to execute if condition1 is True\n",
        "\n",
        "elif condition2:\n",
        "     Code to execute if condition2 is True\n",
        "     \n",
        "else:\n",
        "     Code to execute if none of the conditions are True"
      ],
      "metadata": {
        "id": "ARRBZTFdRsjg"
      }
    },
    {
      "cell_type": "code",
      "source": [
        "score = 69\n",
        "\n",
        "if score >= 90:\n",
        "    print(\"You got an A+\")\n",
        "elif score >= 80:\n",
        "    print(\"You got a B\")\n",
        "elif score >= 70:\n",
        "    print(\"You got a C\")\n",
        "else:\n",
        "    print(\"You need to improve your score.\")"
      ],
      "metadata": {
        "id": "qdMIQg3WR_dQ"
      },
      "execution_count": null,
      "outputs": []
    },
    {
      "cell_type": "markdown",
      "source": [
        "Nested Conditional Statements\n",
        "\n",
        "You can nest conditional statements within each other to create more complex logic."
      ],
      "metadata": {
        "id": "08t5odO5SQRm"
      }
    },
    {
      "cell_type": "code",
      "source": [
        "age = 20\n",
        "is_citizen = True\n",
        "\n",
        "if age >= 18:\n",
        "    if is_citizen:\n",
        "        print(\"You are eligible to vote.\")\n",
        "    else:\n",
        "        print(\"You need to be a citizen to vote.\")\n",
        "else:\n",
        "    print(\"You are not eligible to vote yet.\")"
      ],
      "metadata": {
        "id": "sNdoWxJmSVFD"
      },
      "execution_count": null,
      "outputs": []
    },
    {
      "cell_type": "markdown",
      "source": [
        "Q.7 Describe the diffrent types of loop in python  and their use cases with example .\n",
        "\n",
        "--->>>   Loops-\n",
        "                Loops in python allow you to execute a block of code repeatedly . They are essential for automating task and processing data efficiently.\n",
        "\n",
        "          Types of loop:\n",
        "          1. For Loop\n",
        "          use case : itreting over a sequence ( like a list , string, or range) or other iterable object.\n",
        "          \n",
        "          for item in sequence:\n",
        "                                 Code to execute for each item"
      ],
      "metadata": {
        "id": "AD8-Vv7ISZIX"
      }
    },
    {
      "cell_type": "code",
      "source": [
        "fruits = [\"apple\", \"banana\", \"cherry\"]\n",
        "for fruit in fruits:\n",
        "   print(fruit)\n"
      ],
      "metadata": {
        "id": "_JnSQwW8UBCM"
      },
      "execution_count": null,
      "outputs": []
    },
    {
      "cell_type": "markdown",
      "source": [
        "2. While Loop :\n",
        "    \n",
        "              Use case :\n",
        "                        repeating a block of code as long as a condition is true"
      ],
      "metadata": {
        "id": "kgZR3SbYUM2i"
      }
    },
    {
      "cell_type": "code",
      "source": [
        "count = 0\n",
        "while count < 5:\n",
        "  print(count)\n",
        "  count += 1\n",
        "\n",
        "\n",
        "\n"
      ],
      "metadata": {
        "id": "Iux9D_RdUkAe"
      },
      "execution_count": null,
      "outputs": []
    }
  ]
}